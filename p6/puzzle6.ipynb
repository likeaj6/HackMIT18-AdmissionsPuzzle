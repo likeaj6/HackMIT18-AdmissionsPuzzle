{
 "cells": [
  {
   "cell_type": "code",
   "execution_count": 482,
   "metadata": {},
   "outputs": [],
   "source": [
    "exp_num_dists = 10\n",
    "imbalance = 150*(10**10)\n",
    "eff_gap = -0.105\n",
    "n = 10\n",
    "D = 20"
   ]
  },
  {
   "cell_type": "code",
   "execution_count": 483,
   "metadata": {},
   "outputs": [],
   "source": [
    "import math\n",
    "def get_neighbors(dist_coord):\n",
    "    x, y = dist_coord\n",
    "    return (x-1)*n + y, (x+1)*n + y, (x*n)+y+1, x*n +(y-1)\n",
    "def get_coordinates(block, n):\n",
    "    return (math.floor(block/n), block%n)"
   ]
  },
  {
   "cell_type": "code",
   "execution_count": 484,
   "metadata": {},
   "outputs": [],
   "source": [
    "# setup/import data\n",
    "import json\n",
    "from pprint import pprint\n",
    "with open('p6/voters.json') as data_file:\n",
    "    data_item = json.load(data_file)\n",
    "    \n",
    "voters_a = data_item['voters_by_block']['party_A']\n",
    "voters_b = data_item['voters_by_block']['party_B']\n",
    "blocks_pop = [a + b for a, b in zip(voters_a, voters_b)]\n",
    "\n",
    "blocks = {}\n",
    "blocks_assigned = {}\n",
    "for i in range(n):\n",
    "    blocks[i] = {}\n",
    "    blocks_assigned[i] = {}\n",
    "for i in range(100):\n",
    "    block = voters_a[i], voters_b[i]\n",
    "    x, y = get_coordinates(i, n)\n",
    "    blocks[x][y] = block\n",
    "    blocks_assigned[x][y] = False\n",
    "\n"
   ]
  },
  {
   "cell_type": "code",
   "execution_count": 485,
   "metadata": {},
   "outputs": [],
   "source": [
    "# dists will be an array of labels i.e 10, or the block at (1, 0)\n",
    "def get_block_vote_split(block):\n",
    "    x, y = get_coordinates(block, n)\n",
    "    a, b = blocks[x][y]\n",
    "    return a, b\n",
    "def get_block_pop(block):\n",
    "    a, b = get_block_vote_split(block)\n",
    "    return a + b\n",
    "def get_dist_vote_split(dist):\n",
    "    blocks_split = [get_block_vote_split(block) for block in dist]\n",
    "    a = sum([block[0] for block in blocks_split])\n",
    "    b = sum([block[1] for block in blocks_split])\n",
    "    return a, b\n",
    "def dist_population(dist): \n",
    "    a, b = get_dist_vote_split(dist)\n",
    "    return a + b\n",
    "def mean_dist_pop(dists):\n",
    "    mean = sum([dist_population(dist) for dist_num, dist in dists.items()])/len(dists)\n",
    "    return mean\n",
    "def dist_pop_imbalance(dists):\n",
    "    mean = mean_dist_pop(dists)\n",
    "    imbalance = sum([(dist_population(dist) - mean)**2 for dist_num, dist in dists.items()])\n",
    "    return imbalance\n",
    "def expected_eff_gap(dists, total_pop):\n",
    "    #First, compute the number of wasted votes for both parties.\n",
    "    #Then take the subtract the number of wasted votes for party B \n",
    "    #from the number of wasted votes for party A and divide that number by total population. \n",
    "    #A largely negative value is associated with gerrymandering in favor of party A.\n",
    "    wasted_dists = [calc_wasted_votes(dist) for dist_num, dist in dists.items()]\n",
    "    wasted_A = sum([a for (a, b) in wasted_dists])\n",
    "    wasted_B = sum([b for (a, b) in wasted_dists])\n",
    "    return (wasted_A - wasted_B)/total_pop\n",
    "def calc_wasted_votes(dist):\n",
    "    # a won\n",
    "    a, b = get_dist_vote_split(dist)\n",
    "    if (exp_prob_winning_dist(a, b) > 0.5):\n",
    "        return (a - (a+b))/2, b\n",
    "    # b won\n",
    "    else:\n",
    "        return a, (b - (a+b))/2\n",
    "    return\n",
    "def exp_prob_winning_dist(pop_A, pop_B):\n",
    "    # E[X] = n*p\n",
    "    # P[A winning] = E[X] + E[Y]/X + Y\n",
    "    return (.60*pop_A + .40*pop_B)/(pop_A + pop_B)\n",
    "\n",
    "def exp_num_districts(dists):\n",
    "    dists_splits = [get_dist_vote_split(dist) for dist_num, dist in dists.items()]\n",
    "    return sum([exp_prob_winning_dist(a, b) for (a, b) in dists_splits])"
   ]
  },
  {
   "cell_type": "code",
   "execution_count": 486,
   "metadata": {},
   "outputs": [
    {
     "name": "stdout",
     "output_type": "stream",
     "text": [
      "8741\n"
     ]
    }
   ],
   "source": [
    "total_pop = sum(voters_a + voters_b)\n",
    "print(voters_a[0])"
   ]
  },
  {
   "cell_type": "code",
   "execution_count": 487,
   "metadata": {},
   "outputs": [],
   "source": [
    "districts_left = 20"
   ]
  },
  {
   "cell_type": "code",
   "execution_count": 488,
   "metadata": {},
   "outputs": [],
   "source": [
    "import random\n",
    "from itertools import combinations\n",
    "\n",
    "# check if adding block to dist will result in a valid dist\n",
    "def is_valid_dist(dist, block):\n",
    "    if len(dist) == 0: \n",
    "        return True\n",
    "    valid_neighbor = False\n",
    "    block_coord = get_coordinates(block, n)\n",
    "    neighbors = get_neighbors(block_coord)\n",
    "    # if the block has a neighbor in dist, then it's reachable\n",
    "    block_neighbor_valid = [neighbor in dist for neighbor in neighbors]\n",
    "    return (True in block_neighbor_valid)\n",
    "\n",
    "def is_valid_configuration(dists):\n",
    "    total_blocks = 0\n",
    "    for i in range(D):\n",
    "        if len(dists[i] == 0):\n",
    "            return False\n",
    "        total_blocks += len(dists[i])\n",
    "    return (total_blocks == n**2)\n",
    "\n",
    "def best_neighbors(dists):\n",
    "#     possibleSwaps = list(combinations(list(dists), 2))\n",
    "#     allNeighbors = []\n",
    "#     for swap in possibleSwaps:\n",
    "#         allNeighbors.append(tour.move_city(tour.index(swap[0]),tour.index(swap[1])))\n",
    "    # TODO: implement if needed\n",
    "    return allNeighbors\n",
    "def change_random_block(dists):\n",
    "    tried_dists = []\n",
    "    randDistStart = random.randint(0, len(dists)-1)\n",
    "    while len(dists[randDistStart]) <= 1:\n",
    "        randDistStart = random.randint(0, len(dists)-1)\n",
    "    randBlock = random.choice(dists[randDistStart])\n",
    "    randDistTo = random.randint(0, len(dists)-1)\n",
    "    coords = get_coordinates(randBlock, n)\n",
    "    while randDistTo == randDistStart and not is_valid_dist(dists[randDistTo], randBlock):\n",
    "        randDistTo = random.randint(0, len(dists)-1)\n",
    "        if randDistTo not in tried_dists:\n",
    "            tried_dists.append(randDistTo)\n",
    "        if len(tried_dists) == len(dists):\n",
    "            randBlock = random.choice(dists[randDistStart])\n",
    "            tried_dists = []\n",
    "    dists[randDistStart].remove(randBlock)\n",
    "    dists[randDistTo].append(randBlock)\n",
    "    return dists\n",
    "        \n",
    "    return tour.move_city(randStart, randTo), self.cost(tour.move_city(randStart, randTo))\n",
    "def assign_blocks_to_district(blocks):\n",
    "    districts = {}\n",
    "    blocks_assigned = {}\n",
    "    has_empty_dist = True in [len(v)== 0 for k,v in districts.items()]\n",
    "    for i in range(D):\n",
    "        districts[i] = []\n",
    "    for i in range(n):\n",
    "        blocks_assigned[i] = {}\n",
    "        for j in range(n):\n",
    "            blocks_assigned[i][j] = False\n",
    "    for i in range(100):\n",
    "        x, y = get_coordinates(i, n)\n",
    "        while not blocks_assigned[x][y]:\n",
    "            a, b = get_block_vote_split(i)\n",
    "            # randomly assign as long as its valid\n",
    "            if has_empty_dist:\n",
    "                for k,v in districts.items():\n",
    "                    if len(v) == 0:\n",
    "                        blocks_assigned[x][y] = True\n",
    "                        districts[k].append(i)\n",
    "            else:\n",
    "                randDistNum = random.randint(0, D-1)\n",
    "                dist = districts[randDistNum]\n",
    "                if is_valid_dist(dist, i):\n",
    "                    blocks_assigned[x][y] = True\n",
    "                    dist.append(i)\n",
    "    return districts"
   ]
  },
  {
   "cell_type": "code",
   "execution_count": null,
   "metadata": {},
   "outputs": [],
   "source": [
    "dists = assign_blocks_to_district(blocks)"
   ]
  },
  {
   "cell_type": "code",
   "execution_count": 520,
   "metadata": {},
   "outputs": [
    {
     "name": "stdout",
     "output_type": "stream",
     "text": [
      "{0: [63], 1: [90], 2: [27, 40, 29, 42, 58, 14, 17, 57, 85, 51, 64, 91, 94, 70, 77, 60, 36, 37, 10], 3: [2], 4: [5, 24, 16, 72, 69, 54, 65, 3, 47, 95, 43, 25, 56, 34, 44, 86, 87, 66], 5: [0], 6: [83], 7: [68, 53], 8: [12, 82, 84, 35, 80], 9: [50, 55, 6, 52, 92, 62, 9], 10: [33, 73, 32], 11: [22, 49, 59, 67, 7, 74, 20, 23], 12: [89], 13: [93, 4, 98, 48, 99], 14: [28], 15: [31, 41], 16: [11, 97, 15, 38, 76, 1, 71, 78, 81, 79, 39], 17: [13, 18, 30, 26, 75, 61, 21, 88, 46], 18: [96, 8], 19: [19, 45]}\n",
      "imbalance 7344807371372.949\n",
      "imbalance 7341926997992.949\n",
      "imbalance 6873659335976.95\n",
      "imbalance 6742734396626.95\n",
      "imbalance 6712830397358.951\n",
      "imbalance 6694007817902.951\n",
      "imbalance 6665324393510.951\n",
      "imbalance 6576349585896.951\n",
      "imbalance 6222306134828.952\n",
      "imbalance 5469963954350.951\n",
      "imbalance 5124169438980.949\n",
      "imbalance 4985493438282.95\n",
      "imbalance 4757793447902.95\n",
      "imbalance 4694360404682.95\n",
      "imbalance 4459430286654.951\n",
      "imbalance 4447944864130.951\n",
      "imbalance 4440660498158.95\n",
      "imbalance 4433071746078.95\n",
      "imbalance 4418208443526.951\n",
      "imbalance 4356045765502.9507\n",
      "imbalance 4354092626622.9507\n",
      "imbalance 4325938880274.9507\n",
      "imbalance 4280289379086.9507\n",
      "imbalance 4268124760668.95\n",
      "imbalance 4163806407888.95\n",
      "imbalance 4133145506792.95\n",
      "imbalance 4017968656616.9507\n",
      "imbalance 3457508677824.95\n",
      "imbalance 3446358984384.95\n",
      "imbalance 3198028005276.95\n",
      "imbalance 3055976015816.9507\n",
      "imbalance 3053718541916.9507\n",
      "imbalance 3052630113472.9497\n",
      "imbalance 2971864130692.95\n",
      "imbalance 2950730436130.95\n",
      "imbalance 2828757749710.9497\n",
      "imbalance 2801769853670.9497\n",
      "imbalance 2793617365618.9497\n",
      "imbalance 2645881931534.9497\n",
      "imbalance 2637068486150.95\n",
      "imbalance 2562802345306.95\n",
      "imbalance 2552671873678.95\n",
      "imbalance 2543775476618.95\n",
      "imbalance 2508919613910.95\n",
      "imbalance 2508324350696.95\n",
      "imbalance 2338989669972.95\n",
      "imbalance 2318647658112.95\n",
      "imbalance 2293962578792.9497\n",
      "imbalance 2292744466036.95\n",
      "imbalance 2292185828908.95\n",
      "imbalance 2193910833362.9502\n",
      "imbalance 2183736118918.9504\n",
      "imbalance 2177188517926.9504\n",
      "imbalance 2024896766248.9502\n",
      "imbalance 1967096810954.9502\n",
      "imbalance 1843228645810.9497\n",
      "imbalance 1829799849096.9502\n",
      "imbalance 1828353295316.9502\n",
      "imbalance 1806846972964.95\n",
      "imbalance 1789079489000.9502\n",
      "imbalance 1778515557608.9502\n",
      "imbalance 1668085906092.9502\n",
      "imbalance 1582908013386.9502\n",
      "imbalance 1353773786218.9502\n",
      "DONE WITH IMBALANCE\n",
      "num districts 9.634206862861404\n",
      "num districts 9.641297045443283\n",
      "num districts 9.643010822049016\n",
      "num districts 9.653711850746175\n",
      "num districts 9.655015886840232\n",
      "num districts 9.6560290031707\n",
      "num districts 9.737836186066431\n",
      "num districts 9.745254730301692\n",
      "num districts 9.745268433128123\n",
      "num districts 9.751551422676371\n",
      "num districts 9.784366015943343\n",
      "num districts 9.786070212856451\n",
      "num districts 9.803616989445187\n",
      "num districts 9.80798441061615\n",
      "DONE WITH DISTRICTS\n",
      "DONE WITH GAP\n",
      "True False True\n"
     ]
    }
   ],
   "source": [
    "print(dists)\n",
    "# print(exp_num_districts(dists))\n",
    "# print(dist_pop_imbalance(dists))\n",
    "# print(expected_eff_gap(dists, total_pop))\n",
    "# print(exp_num_districts(dists) >= exp_num_dists, dist_pop_imbalance(dists) <= imbalance, expected_eff_gap(dists, total_pop) >= eff_gap)\n",
    "# print(dist_pop_imbalance(dists))\n",
    "# print(expected_eff_gap(dists, total_pop))\n",
    "current_best_imbalance = 10000000000000000\n",
    "while current_best_imbalance > imbalance:\n",
    "    original_dists = dict(dists)\n",
    "    new_dists = change_random_block(dists)\n",
    "    new_imbalance = dist_pop_imbalance(new_dists)\n",
    "    if new_imbalance <= current_best_imbalance:\n",
    "        current_best_imbalance = new_imbalance\n",
    "        print('imbalance', current_best_imbalance)\n",
    "        dists = new_dists\n",
    "    else: \n",
    "        dists = original_dists\n",
    "print(\"DONE WITH IMBALANCE\")\n",
    "current_best_exp = 0\n",
    "while exp_num_districts(dists) < exp_num_dists:\n",
    "    original_dists = dict(dists)\n",
    "    new_dists = change_random_block(dists)\n",
    "    new_exp_num = exp_num_districts(new_dists)\n",
    "    if (current_best_exp <= new_exp_num and dist_pop_imbalance(new_dists) <= imbalance):\n",
    "        current_best_exp = new_exp_num\n",
    "        print('num districts', new_exp_num)\n",
    "        dists = new_dists\n",
    "    else: \n",
    "        dists = original_dists\n",
    "print(\"DONE WITH DISTRICTS\")\n",
    "current_best_gap = 1.0\n",
    "while expected_eff_gap(dists, total_pop) < eff_gap:\n",
    "    original_dists = dict(dists)\n",
    "    new_dists = change_random_block(dists)\n",
    "    new_gap = expected_eff_gap(new_dists)\n",
    "    if (current_best_gap <= new_gap and exp_num_districts(new_dists) >= 10 and dist_pop_imbalance(new_dists) <= imbalance):\n",
    "        current_best_gap = new_gap\n",
    "        print('eff gap', current_best_gap)\n",
    "        dists = new_dists\n",
    "    else: \n",
    "        dists = original_dists\n",
    "print(\"DONE WITH GAP\")\n",
    "print(exp_num_districts(dists) >= exp_num_dists, dist_pop_imbalance(dists) <= imbalance, expected_eff_gap(dists, total_pop) >= eff_gap)"
   ]
  },
  {
   "cell_type": "code",
   "execution_count": 412,
   "metadata": {},
   "outputs": [],
   "source": [
    "# key is dist, value is true if we've tried it\n",
    "combination_tried = {}\n",
    "# dists is an array of length D, of tuples (num_party_A, num_party_B) in district i\n",
    "dists = []\n",
    "# win condition\n"
   ]
  },
  {
   "cell_type": "code",
   "execution_count": 513,
   "metadata": {},
   "outputs": [
    {
     "name": "stdout",
     "output_type": "stream",
     "text": [
      "True False True\n"
     ]
    }
   ],
   "source": [
    "print(exp_num_districts(dists) >= exp_num_dists, dist_pop_imbalance(dists) <= imbalance, expected_eff_gap(dists, total_pop) >= eff_gap)"
   ]
  },
  {
   "cell_type": "code",
   "execution_count": 519,
   "metadata": {},
   "outputs": [
    {
     "name": "stdout",
     "output_type": "stream",
     "text": [
      "7857742112766.95\n",
      "1500000000000\n"
     ]
    }
   ],
   "source": [
    "print(dist_pop_imbalance(dists))\n",
    "print(imbalance)"
   ]
  },
  {
   "cell_type": "code",
   "execution_count": 515,
   "metadata": {},
   "outputs": [
    {
     "name": "stdout",
     "output_type": "stream",
     "text": [
      "10.002898155019142\n"
     ]
    }
   ],
   "source": [
    "print(exp_num_districts(dists))"
   ]
  },
  {
   "cell_type": "code",
   "execution_count": 518,
   "metadata": {},
   "outputs": [
    {
     "name": "stdout",
     "output_type": "stream",
     "text": [
      "0.26826444716245207\n"
     ]
    }
   ],
   "source": [
    "print(expected_eff_gap(dists, total_pop))"
   ]
  },
  {
   "cell_type": "code",
   "execution_count": null,
   "metadata": {},
   "outputs": [],
   "source": [
    "while current_best_imbalance > imbalance:\n",
    "    original_dists = dict(dists)\n",
    "    new_dists = change_random_block(dists)\n",
    "    new_imbalance = dist_pop_imbalance(new_dists)\n",
    "    if new_imbalance <= current_best_imbalance:\n",
    "        current_best_imbalance = new_imbalance\n",
    "        print('imbalance', current_best_imbalance)\n",
    "        dists = new_dists\n",
    "    else: \n",
    "        dists = original_dists\n",
    "print(\"DONE WITH IMBALANCE\")"
   ]
  }
 ],
 "metadata": {
  "kernelspec": {
   "display_name": "Python 3",
   "language": "python",
   "name": "python3"
  },
  "language_info": {
   "codemirror_mode": {
    "name": "ipython",
    "version": 3
   },
   "file_extension": ".py",
   "mimetype": "text/x-python",
   "name": "python",
   "nbconvert_exporter": "python",
   "pygments_lexer": "ipython3",
   "version": "3.6.5"
  }
 },
 "nbformat": 4,
 "nbformat_minor": 2
}
