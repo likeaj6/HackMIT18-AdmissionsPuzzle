{
 "cells": [
  {
   "cell_type": "code",
   "execution_count": 45,
   "metadata": {},
   "outputs": [],
   "source": [
    "import imageio\n",
    "import cv2 as cv\n",
    "import numpy as np\n",
    "from matplotlib import pyplot as plt"
   ]
  },
  {
   "cell_type": "code",
   "execution_count": 39,
   "metadata": {},
   "outputs": [],
   "source": [
    "reader = imageio.get_reader('vid.mp4')\n"
   ]
  },
  {
   "cell_type": "code",
   "execution_count": 42,
   "metadata": {},
   "outputs": [],
   "source": [
    "h, w = 92, 92\n",
    "x, y = 28, 600\n",
    "def get_qr():\n",
    "    cap = cv.VideoCapture('vid.mp4')\n",
    "    if (cap.isOpened()== False): \n",
    "        print(\"Error opening video stream or file\")\n",
    "\n",
    "    # Read until video is completed\n",
    "    threshold = 50\n",
    "    while(cap.isOpened()):\n",
    "        ret, frame = cap.read()\n",
    "        if ret == True:\n",
    "            crop_img = frame[y:y+h,x:x+w,:]\n",
    "            qr_code_gray = cv.cvtColor(crop_img, cv.COLOR_BGR2GRAY)\n",
    "            ret,thresh2 = cv.threshold(qr_code_gray,50,255,cv.THRESH_BINARY)\n",
    "            cv.imwrite('qr.png', thresh2)\n",
    "            return frame, thresh2"
   ]
  },
  {
   "cell_type": "code",
   "execution_count": 54,
   "metadata": {},
   "outputs": [
    {
     "data": {
      "text/plain": [
       "True"
      ]
     },
     "execution_count": 54,
     "metadata": {},
     "output_type": "execute_result"
    }
   ],
   "source": [
    "frame, qr_code = get_qr()\n",
    "height, width, shape = frame.shape\n",
    "\n",
    "frame_gray = cv.cvtColor(frame, cv.COLOR_BGR2GRAY)\n",
    "ret, blank = cv.threshold(frame_gray,0,0,cv.THRESH_BINARY)\n",
    "blank[y:y+h,x:x+w] = qr_code\n",
    "cv.imwrite('mask.png', blank)\n",
    "# qr_code.copyTo(frame(cv::Rect(0, 0, 30, 30)))\n",
    "# blank = np.zeros((height,width), np.uint8)\n",
    "# blank_img = cv.imread(blank)\n",
    "# qr_code.copyTo(blank_img)\n",
    "# plt.imshow(blank)\n",
    "# plt.show()\n",
    "#         plt.imshow(img)\n",
    "# #         plt.imshow(img)\n",
    "#         plt.title('my picture')\n",
    "#         plt.savefig(\"qr.png\")\n",
    "#         plt.show()\n",
    "#         plt.imshow(frame)\n",
    "#         plt.show()\n",
    "    # Display the resulting frame\n",
    "#         cv2.imshow('Frame',frame)\n",
    "#         \n",
    "#         plt.imshow(img)\n",
    "        # Press Q on keyboard to  exit\n",
    "# # When everything done, release the video capture object\n",
    "# cap.release()\n",
    " \n",
    "# # Closes all the frames\n",
    "# cv2.destroyAllWindows()"
   ]
  },
  {
   "cell_type": "code",
   "execution_count": null,
   "metadata": {},
   "outputs": [],
   "source": [
    "q"
   ]
  }
 ],
 "metadata": {
  "kernelspec": {
   "display_name": "Python 3",
   "language": "python",
   "name": "python3"
  },
  "language_info": {
   "codemirror_mode": {
    "name": "ipython",
    "version": 3
   },
   "file_extension": ".py",
   "mimetype": "text/x-python",
   "name": "python",
   "nbconvert_exporter": "python",
   "pygments_lexer": "ipython3",
   "version": "3.6.5"
  }
 },
 "nbformat": 4,
 "nbformat_minor": 2
}
